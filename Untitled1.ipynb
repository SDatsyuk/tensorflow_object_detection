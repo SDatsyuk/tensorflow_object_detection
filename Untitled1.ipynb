{
 "cells": [
  {
   "cell_type": "code",
   "execution_count": 123,
   "metadata": {},
   "outputs": [],
   "source": [
    "boxes = [(257, 9, 347, 277, 98, 'Sport075'), (342, 13, 433, 286, 94, 'Sport075'), (499, 22, 589, 288, 90, 'Sport075'), \n",
    "         (172, 20, 263, 285, 90, 'Sport075'), (211, 327, 312, 645, 86, 'Hulk033'), (420, 642, 487, 800, 80, 'Sport075')]\n",
    "boxes = [(171, 102, 250, 305, 99, 'IronMan033'), (516, 102, 590, 296, 99, 'Cinderella033'), (31, 418, 126, 668, 99, 'Sport075'), \n",
    "         (246, 57, 337, 291, 99, 'Noncarbonated05'), (191, 463, 276, 672, 98, 'Lowcarbonated05'), \n",
    "         (94, 332, 199, 665, 97, 'Sport075'), (460, 385, 552, 641, 93, 'Sport075'), (427, 15, 518, 289, 92, 'Sport075'), \n",
    "         (81, 28, 171, 307, 92, 'Sport075'), (357, 336, 460, 648, 89, 'Lowcarbonated075'), (224, 729, 282, 800, 82, 'Sportyk033')]"
   ]
  },
  {
   "cell_type": "code",
   "execution_count": 124,
   "metadata": {},
   "outputs": [
    {
     "data": {
      "text/plain": [
       "[(427, 15, 518, 289, 92, 'Sport075'),\n",
       " (81, 28, 171, 307, 92, 'Sport075'),\n",
       " (246, 57, 337, 291, 99, 'Noncarbonated05'),\n",
       " (171, 102, 250, 305, 99, 'IronMan033'),\n",
       " (516, 102, 590, 296, 99, 'Cinderella033'),\n",
       " (94, 332, 199, 665, 97, 'Sport075'),\n",
       " (357, 336, 460, 648, 89, 'Lowcarbonated075'),\n",
       " (460, 385, 552, 641, 93, 'Sport075'),\n",
       " (31, 418, 126, 668, 99, 'Sport075'),\n",
       " (191, 463, 276, 672, 98, 'Lowcarbonated05'),\n",
       " (224, 729, 282, 800, 82, 'Sportyk033')]"
      ]
     },
     "execution_count": 124,
     "metadata": {},
     "output_type": "execute_result"
    }
   ],
   "source": [
    "boxes_sorted = sorted(boxes, key=lambda x: x[1])\n",
    "boxes_sorted"
   ]
  },
  {
   "cell_type": "code",
   "execution_count": 125,
   "metadata": {},
   "outputs": [],
   "source": [
    "pre = [0,0,0,0]\n",
    "shelf_id = 0\n",
    "res = {\"Shelf1\": []}\n",
    "for i in boxes_sorted:\n",
    "    if i[1] - 0.75 * (pre[3] - pre[1]) > pre[1]:\n",
    "        shelf_id += 1\n",
    "        res['Shelf%s' % shelf_id] = []\n",
    "    res['Shelf%s' % shelf_id].append(i)\n",
    "    pre = i"
   ]
  },
  {
   "cell_type": "code",
   "execution_count": 126,
   "metadata": {},
   "outputs": [
    {
     "data": {
      "text/plain": [
       "{'Shelf1': [(427, 15, 518, 289, 92, 'Sport075'),\n",
       "  (81, 28, 171, 307, 92, 'Sport075'),\n",
       "  (246, 57, 337, 291, 99, 'Noncarbonated05'),\n",
       "  (171, 102, 250, 305, 99, 'IronMan033'),\n",
       "  (516, 102, 590, 296, 99, 'Cinderella033')],\n",
       " 'Shelf2': [(94, 332, 199, 665, 97, 'Sport075'),\n",
       "  (357, 336, 460, 648, 89, 'Lowcarbonated075'),\n",
       "  (460, 385, 552, 641, 93, 'Sport075'),\n",
       "  (31, 418, 126, 668, 99, 'Sport075'),\n",
       "  (191, 463, 276, 672, 98, 'Lowcarbonated05')],\n",
       " 'Shelf3': [(224, 729, 282, 800, 82, 'Sportyk033')]}"
      ]
     },
     "execution_count": 126,
     "metadata": {},
     "output_type": "execute_result"
    }
   ],
   "source": [
    "res"
   ]
  },
  {
   "cell_type": "code",
   "execution_count": 128,
   "metadata": {},
   "outputs": [],
   "source": [
    "for i in res:\n",
    "    res[i] = sorted(res[i], key=lambda k: k[0])"
   ]
  },
  {
   "cell_type": "code",
   "execution_count": 129,
   "metadata": {},
   "outputs": [
    {
     "data": {
      "text/plain": [
       "{'Shelf1': [(81, 28, 171, 307, 92, 'Sport075'),\n",
       "  (171, 102, 250, 305, 99, 'IronMan033'),\n",
       "  (246, 57, 337, 291, 99, 'Noncarbonated05'),\n",
       "  (427, 15, 518, 289, 92, 'Sport075'),\n",
       "  (516, 102, 590, 296, 99, 'Cinderella033')],\n",
       " 'Shelf2': [(31, 418, 126, 668, 99, 'Sport075'),\n",
       "  (94, 332, 199, 665, 97, 'Sport075'),\n",
       "  (191, 463, 276, 672, 98, 'Lowcarbonated05'),\n",
       "  (357, 336, 460, 648, 89, 'Lowcarbonated075'),\n",
       "  (460, 385, 552, 641, 93, 'Sport075')],\n",
       " 'Shelf3': [(224, 729, 282, 800, 82, 'Sportyk033')]}"
      ]
     },
     "execution_count": 129,
     "metadata": {},
     "output_type": "execute_result"
    }
   ],
   "source": [
    "res"
   ]
  },
  {
   "cell_type": "code",
   "execution_count": 131,
   "metadata": {},
   "outputs": [],
   "source": [
    "import numpy as np"
   ]
  },
  {
   "cell_type": "code",
   "execution_count": 137,
   "metadata": {},
   "outputs": [
    {
     "data": {
      "text/plain": [
       "True"
      ]
     },
     "execution_count": 137,
     "metadata": {},
     "output_type": "execute_result"
    }
   ],
   "source": [
    "a = np.arange(360, 430)\n",
    "b = np.arange(380, 480)\n",
    "np.isin(a,b).any()"
   ]
  },
  {
   "cell_type": "code",
   "execution_count": 143,
   "metadata": {},
   "outputs": [
    {
     "name": "stdout",
     "output_type": "stream",
     "text": [
      "[220 221 222 223 224 225 226 227 228 229 230 231 232 233 234 235 236 237\n",
      " 238 239 240 241 242 243 244 245 246 247 248 249 250 251 252 253 254 255\n",
      " 256 257 258 259 260 261 262 263 264 265 266 267 268 269 270 271 272 273\n",
      " 274 275 276 277 278 279 280 281 282 283 284 285 286 287 288]\n",
      "shelf\n",
      "[237 238 239 240 241 242 243 244 245 246 247 248 249 250 251 252 253 254\n",
      " 255 256 257 258 259 260 261 262 263 264 265 266 267 268 269 270 271 272\n",
      " 273 274 275 276 277 278 279 280 281 282 283 284 285 286 287 288 289 290\n",
      " 291 292 293 294 295 296 297 298 299 300 301 302 303 304 305 306]\n",
      "[232 233 234 235 236 237 238 239 240 241 242 243 244 245 246 247 248 249\n",
      " 250 251 252 253 254 255 256 257 258 259 260 261 262 263 264 265 266 267\n",
      " 268 269 270 271 272 273 274 275 276 277 278 279 280 281 282 283 284 285\n",
      " 286 287 288 289 290]\n",
      "[254 255 256 257 258 259 260 261 262 263 264 265 266 267 268 269 270 271\n",
      " 272 273 274 275 276 277 278 279 280 281 282 283 284 285 286 287 288 289\n",
      " 290 291 292 293 294 295 296 297 298 299 300 301 302 303 304]\n",
      "[247 248 249 250 251 252 253 254 255 256 257 258 259 260 261 262 263 264\n",
      " 265 266 267 268 269 270 271 272 273 274 275 276 277 278 279 280 281 282\n",
      " 283 284 285 286 287 288 289 290 291 292 293 294 295]\n",
      "[581 582 583 584 585 586 587 588 589 590 591 592 593 594 595 596 597 598\n",
      " 599 600 601 602 603 604 605 606 607 608 609 610 611 612 613 614 615 616\n",
      " 617 618 619 620 621 622 623 624 625 626 627 628 629 630 631 632 633 634\n",
      " 635 636 637 638 639 640 641 642 643 644 645 646 647 648 649 650 651 652\n",
      " 653 654 655 656 657 658 659 660 661 662 663 664]\n",
      "shelf\n",
      "[570 571 572 573 574 575 576 577 578 579 580 581 582 583 584 585 586 587\n",
      " 588 589 590 591 592 593 594 595 596 597 598 599 600 601 602 603 604 605\n",
      " 606 607 608 609 610 611 612 613 614 615 616 617 618 619 620 621 622 623\n",
      " 624 625 626 627 628 629 630 631 632 633 634 635 636 637 638 639 640 641\n",
      " 642 643 644 645 646 647]\n",
      "[577 578 579 580 581 582 583 584 585 586 587 588 589 590 591 592 593 594\n",
      " 595 596 597 598 599 600 601 602 603 604 605 606 607 608 609 610 611 612\n",
      " 613 614 615 616 617 618 619 620 621 622 623 624 625 626 627 628 629 630\n",
      " 631 632 633 634 635 636 637 638 639 640]\n",
      "[605 606 607 608 609 610 611 612 613 614 615 616 617 618 619 620 621 622\n",
      " 623 624 625 626 627 628 629 630 631 632 633 634 635 636 637 638 639 640\n",
      " 641 642 643 644 645 646 647 648 649 650 651 652 653 654 655 656 657 658\n",
      " 659 660 661 662 663 664 665 666 667]\n",
      "[619 620 621 622 623 624 625 626 627 628 629 630 631 632 633 634 635 636\n",
      " 637 638 639 640 641 642 643 644 645 646 647 648 649 650 651 652 653 654\n",
      " 655 656 657 658 659 660 661 662 663 664 665 666 667 668 669 670 671]\n",
      "[782 783 784 785 786 787 788 789 790 791 792 793 794 795 796 797 798 799]\n",
      "shelf\n"
     ]
    }
   ],
   "source": [
    "shelf_id = 0\n",
    "res = {}\n",
    "pre_range = [0]\n",
    "for i in boxes_sorted:\n",
    "    bottom_range = np.arange(int(i[1] + 0.75 * (i[3] - i[1])), i[3])\n",
    "    print(bottom_range)\n",
    "    if not np.isin(bottom_range, pre_range).any():\n",
    "        print('shelf')\n",
    "        shelf_id += 1\n",
    "        res['Shelf%s' % shelf_id] = []\n",
    "    res['Shelf%s' % shelf_id].append(i)\n",
    "    pre_range = bottom_range"
   ]
  },
  {
   "cell_type": "code",
   "execution_count": 144,
   "metadata": {},
   "outputs": [
    {
     "data": {
      "text/plain": [
       "{'Shelf1': [(427, 15, 518, 289, 92, 'Sport075'),\n",
       "  (81, 28, 171, 307, 92, 'Sport075'),\n",
       "  (246, 57, 337, 291, 99, 'Noncarbonated05'),\n",
       "  (171, 102, 250, 305, 99, 'IronMan033'),\n",
       "  (516, 102, 590, 296, 99, 'Cinderella033')],\n",
       " 'Shelf2': [(94, 332, 199, 665, 97, 'Sport075'),\n",
       "  (357, 336, 460, 648, 89, 'Lowcarbonated075'),\n",
       "  (460, 385, 552, 641, 93, 'Sport075'),\n",
       "  (31, 418, 126, 668, 99, 'Sport075'),\n",
       "  (191, 463, 276, 672, 98, 'Lowcarbonated05')],\n",
       " 'Shelf3': [(224, 729, 282, 800, 82, 'Sportyk033')]}"
      ]
     },
     "execution_count": 144,
     "metadata": {},
     "output_type": "execute_result"
    }
   ],
   "source": [
    "res"
   ]
  },
  {
   "cell_type": "code",
   "execution_count": 145,
   "metadata": {},
   "outputs": [],
   "source": [
    "for i in res:\n",
    "    res[i] = sorted(res[i], key=lambda k: k[0])"
   ]
  },
  {
   "cell_type": "code",
   "execution_count": 146,
   "metadata": {},
   "outputs": [
    {
     "data": {
      "text/plain": [
       "{'Shelf1': [(81, 28, 171, 307, 92, 'Sport075'),\n",
       "  (171, 102, 250, 305, 99, 'IronMan033'),\n",
       "  (246, 57, 337, 291, 99, 'Noncarbonated05'),\n",
       "  (427, 15, 518, 289, 92, 'Sport075'),\n",
       "  (516, 102, 590, 296, 99, 'Cinderella033')],\n",
       " 'Shelf2': [(31, 418, 126, 668, 99, 'Sport075'),\n",
       "  (94, 332, 199, 665, 97, 'Sport075'),\n",
       "  (191, 463, 276, 672, 98, 'Lowcarbonated05'),\n",
       "  (357, 336, 460, 648, 89, 'Lowcarbonated075'),\n",
       "  (460, 385, 552, 641, 93, 'Sport075')],\n",
       " 'Shelf3': [(224, 729, 282, 800, 82, 'Sportyk033')]}"
      ]
     },
     "execution_count": 146,
     "metadata": {},
     "output_type": "execute_result"
    }
   ],
   "source": [
    "res"
   ]
  },
  {
   "cell_type": "code",
   "execution_count": 148,
   "metadata": {},
   "outputs": [],
   "source": [
    "data = {}\n",
    "data[\"recognize\"] = []\n",
    "for sh in res:\n",
    "    for i in res[sh]:\n",
    "        data[\"recognize\"].append({'row': res[sh].index(i), 'col': int(sh[-1]) - 1, \"product\": i[-1], \"probability\": i[-2]})"
   ]
  },
  {
   "cell_type": "code",
   "execution_count": 149,
   "metadata": {},
   "outputs": [
    {
     "data": {
      "text/plain": [
       "{'recognize': [{'row': 0, 'col': 0, 'product': 'Sport075', 'probability': 92},\n",
       "  {'row': 1, 'col': 0, 'product': 'IronMan033', 'probability': 99},\n",
       "  {'row': 2, 'col': 0, 'product': 'Noncarbonated05', 'probability': 99},\n",
       "  {'row': 3, 'col': 0, 'product': 'Sport075', 'probability': 92},\n",
       "  {'row': 4, 'col': 0, 'product': 'Cinderella033', 'probability': 99},\n",
       "  {'row': 0, 'col': 1, 'product': 'Sport075', 'probability': 99},\n",
       "  {'row': 1, 'col': 1, 'product': 'Sport075', 'probability': 97},\n",
       "  {'row': 2, 'col': 1, 'product': 'Lowcarbonated05', 'probability': 98},\n",
       "  {'row': 3, 'col': 1, 'product': 'Lowcarbonated075', 'probability': 89},\n",
       "  {'row': 4, 'col': 1, 'product': 'Sport075', 'probability': 93},\n",
       "  {'row': 0, 'col': 2, 'product': 'Sportyk033', 'probability': 82}]}"
      ]
     },
     "execution_count": 149,
     "metadata": {},
     "output_type": "execute_result"
    }
   ],
   "source": [
    "data"
   ]
  },
  {
   "cell_type": "code",
   "execution_count": null,
   "metadata": {},
   "outputs": [],
   "source": []
  }
 ],
 "metadata": {
  "kernelspec": {
   "display_name": "Python 3",
   "language": "python",
   "name": "python3"
  },
  "language_info": {
   "codemirror_mode": {
    "name": "ipython",
    "version": 3
   },
   "file_extension": ".py",
   "mimetype": "text/x-python",
   "name": "python",
   "nbconvert_exporter": "python",
   "pygments_lexer": "ipython3",
   "version": "3.6.6"
  }
 },
 "nbformat": 4,
 "nbformat_minor": 2
}
